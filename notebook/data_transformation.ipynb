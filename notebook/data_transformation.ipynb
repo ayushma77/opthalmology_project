{
 "cells": [
  {
   "cell_type": "code",
   "execution_count": 2,
   "metadata": {},
   "outputs": [],
   "source": [
    "from glob import glob\n",
    "import matplotlib.pyplot as plt\n",
    "import numpy as np\n",
    "import sys\n",
    "import random\n",
    "sys.path.append(\"../\") # go to parent dir"
   ]
  },
  {
   "cell_type": "code",
   "execution_count": 3,
   "metadata": {},
   "outputs": [],
   "source": [
    "data_root_dir = '../data/ODIR-5K_Training_Images/ODIR-5K_Training_Dataset'\n",
    "img_paths = glob(f'{data_root_dir}/*.jpg')"
   ]
  },
  {
   "cell_type": "code",
   "execution_count": 5,
   "metadata": {},
   "outputs": [],
   "source": [
    "# selected_img_paths = random.sample(img_paths, 10)\n",
    "\n",
    "# # Display the selected images\n",
    "# for img_path in selected_img_paths:\n",
    "#     img = plt.imread(img_path)\n",
    "#     plt.imshow(img)\n",
    "#     plt.axis('off')\n",
    "#     plt.show()"
   ]
  },
  {
   "cell_type": "code",
   "execution_count": 14,
   "metadata": {},
   "outputs": [
    {
     "name": "stderr",
     "output_type": "stream",
     "text": [
      "c:\\Users\\Dell\\Desktop\\0pthalmogy_dataset\\opthalmology_project\\venv\\Lib\\site-packages\\torchvision\\transforms\\v2\\_deprecated.py:43: UserWarning: The transform `ToTensor()` is deprecated and will be removed in a future release. Instead, please use `v2.Compose([v2.ToImage(), v2.ToDtype(torch.float32, scale=True)])`.\n",
      "  warnings.warn(\n"
     ]
    }
   ],
   "source": []
  },
  {
   "cell_type": "code",
   "execution_count": 10,
   "metadata": {},
   "outputs": [],
   "source": [
    "from PIL import Image\n",
    "import os\n",
    "\n",
    "def crop_nonzero(image_path, output_path):\n",
    "   \n",
    "    image = Image.open(image_path)\n",
    "    bbox = image.getbbox()\n",
    "    cropped_image = image.crop(bbox)\n",
    "    cropped_image.save(output_path)\n",
    "input_folder = '../data/ODIR-5K_Training_Images/ODIR-5K_Training_Dataset'\n",
    "output_folder = '../data/cropped_images_folder'\n",
    "\n",
    "os.makedirs(output_folder, exist_ok=True)\n",
    "for filename in os.listdir(input_folder):\n",
    "    if filename.endswith(('.jpg')):\n",
    "        input_path = os.path.join(input_folder, filename)\n",
    "        output_path = os.path.join(output_folder, filename)\n",
    "        crop_nonzero(input_path, output_path)\n"
   ]
  },
  {
   "cell_type": "code",
   "execution_count": 12,
   "metadata": {},
   "outputs": [
    {
     "name": "stderr",
     "output_type": "stream",
     "text": [
      "c:\\Users\\Dell\\Desktop\\0pthalmogy_dataset\\opthalmology_project\\venv\\Lib\\site-packages\\torchvision\\transforms\\v2\\_deprecated.py:43: UserWarning: The transform `ToTensor()` is deprecated and will be removed in a future release. Instead, please use `v2.Compose([v2.ToImage(), v2.ToDtype(torch.float32, scale=True)])`.\n",
      "  warnings.warn(\n"
     ]
    }
   ],
   "source": [
    "from torchvision.transforms import v2\n",
    "transforms=v2.Compose([\n",
    "    v2.Resize(size=(256, 256)),\n",
    "    \n",
    "    v2.ToTensor(),\n",
    "])"
   ]
  },
  {
   "cell_type": "code",
   "execution_count": 1,
   "metadata": {},
   "outputs": [],
   "source": [
    "# for image_path in img_paths:\n",
    "#     fig,ax = plt.subplots(1,2)\n",
    "#     original_image = Image.open(img_path)\n",
    "#     transformed_image = transforms(original_image)\n",
    "#     ax[0].imshow(original_image)\n",
    "#     transformed_image_np = transformed_image.numpy().transpose(1, 2, 0)\n",
    "#     ax[1].imshow(transformed_image_np)\n",
    "#     plt.show()"
   ]
  },
  {
   "cell_type": "code",
   "execution_count": 11,
   "metadata": {},
   "outputs": [],
   "source": [
    "# from src.datasets import ODRDataset\n",
    "# import numpy as np\n",
    "\n",
    "# image_dataset=ODRDataset(csv_path=\"../data/processed_train_ODIR-5K.csv\",transforms=None)\n",
    "\n",
    "# g_mean_sum=0\n",
    "# g_std_sum=0\n",
    "# for img,_ in image_dataset:\n",
    "#     img_np=np.array(img)\n",
    "#     g_mean_sum+=img_np[2].mean()\n",
    "#     g_std_sum+=img_np.std()\n",
    "    \n",
    "# #print(r_mean_sum/len(image_dataset),r_std_sum/len(image_dataset))\n",
    "# print(g_mean_sum/len(image_dataset),g_std_sum/len(image_dataset))\n",
    "# #print(b_mean_sum/len(image_dataset),b_std_sum/len(image_dataset))"
   ]
  },
  {
   "cell_type": "code",
   "execution_count": null,
   "metadata": {},
   "outputs": [],
   "source": []
  }
 ],
 "metadata": {
  "kernelspec": {
   "display_name": "venv",
   "language": "python",
   "name": "python3"
  },
  "language_info": {
   "codemirror_mode": {
    "name": "ipython",
    "version": 3
   },
   "file_extension": ".py",
   "mimetype": "text/x-python",
   "name": "python",
   "nbconvert_exporter": "python",
   "pygments_lexer": "ipython3",
   "version": "3.11.3"
  }
 },
 "nbformat": 4,
 "nbformat_minor": 2
}
